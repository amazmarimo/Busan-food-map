{
 "cells": [
  {
   "cell_type": "code",
   "execution_count": 30,
   "id": "17b70a33",
   "metadata": {},
   "outputs": [],
   "source": [
    "import pandas as pd\n",
    "import folium\n",
    "import webbrowser\n",
    "from folium.plugins import MarkerCluster\n",
    "import numpy as np"
   ]
  },
  {
   "cell_type": "code",
   "execution_count": 16,
   "id": "66a5137f",
   "metadata": {},
   "outputs": [],
   "source": [
    "name=str(input())\n",
    "data_frame=pd.read_csv(name+'.csv',encoding='UTF-8')\n",
    "data_frame1=data_frame[:300].copy()"
   ]
  },
  {
   "cell_type": "code",
   "execution_count": 34,
   "id": "51b618ac",
   "metadata": {},
   "outputs": [
    {
     "name": "stderr",
     "output_type": "stream",
     "text": [
      "<ipython-input-34-4447805ae46b>:24: UserWarning: color argument of Icon should be one of: {'darkpurple', 'darkgreen', 'green', 'lightblue', 'red', 'beige', 'gray', 'white', 'black', 'lightred', 'lightgray', 'orange', 'pink', 'lightgreen', 'darkred', 'blue', 'darkblue', 'cadetblue', 'purple'}.\n",
      "  folium.Marker(location=[row['lat'],row['lon']],popup=print_popup,icon=folium.Icon(color=rate_color,icon='info-sign')).add_to(marker_cluster)\n"
     ]
    },
    {
     "data": {
      "text/plain": [
       "True"
      ]
     },
     "execution_count": 34,
     "metadata": {},
     "output_type": "execute_result"
    }
   ],
   "source": [
    "map = folium.Map(location = [35.1856505,129.1], zoom_start=11)\n",
    "marker_cluster=MarkerCluster().add_to(map)\n",
    "\n",
    "for idx,row in data_frame1.iterrows():\n",
    "    \n",
    "#평균 평점 구하고 하이퍼링크\n",
    "    a_rate=[row[\"카카오 평점\"],row[\"구글 평점\"],row[\"네이버 평점\"]]\n",
    "    vol=3\n",
    "\n",
    "#     for i in range(3):\n",
    "#         if a_rate.count(0)==i:\n",
    "#             avg_rate=sum(a_rate)/(3-i)\n",
    "#         elif a_rate.count(0)==3:\n",
    "#             avg_rate=sum(a_rate)\n",
    "\n",
    "    for i in range(3):\n",
    "        if a_rate[i]<0.1:\n",
    "            vol -= 1\n",
    "    if vol!=0:\n",
    "        avg_rate=sum(a_rate)/vol\n",
    "    else:\n",
    "        avg_rate=0\n",
    "        \n",
    "    if avg_rate >=3.5:\n",
    "        rate_color =\"red\"\n",
    "    elif avg_rate > 0:\n",
    "        rate_color=\"orange\"\n",
    "    elif avg_rate ==0:\n",
    "        #grey 가 아닌 gray였다..\n",
    "        rate_color=\"gray\"\n",
    "\n",
    "     #하이퍼링크 link0 카카오 link1 구글 link2 네이버\n",
    "    a_href=[row[\"카카오 URL\"],row[\"구글 URL\"],row[\"네이버 URL\"]]\n",
    "    for i in range(3):\n",
    "        if a_href[i] != 0:\n",
    "            globals()['link{}'.format(i)]=f'<a href = {str(a_href[i])} target =_blink>링크</a>'\n",
    "        else:\n",
    "            globals()['link{}'.format(i)]='0'\n",
    "            \n",
    "    html = (\"<h4> <b>\" +str(row[\"name\"]) +\"</h4></b>\"+str(row[\"cate1\"])\n",
    "            +\"<br>카카오 : \" +str(row[\"카카오 평점\"])+'&nbsp'+str(row[\"카카오 리뷰\"])+'&nbsp'+link0\n",
    "            +\"<br>구글 : \"+str(row[\"구글 평점\"])+'&nbsp'+str(row[\"구글 리뷰\"])+'&nbsp'+link1\n",
    "            +\"<br>네이버 : \"+str(row[\"네이버 평점\"])+'&nbsp'+str(row[\"네이버 리뷰\"])+'&nbsp'+link2)\n",
    "                \n",
    "    iframe = folium.IFrame(html)\n",
    "    print_popup=folium.Popup(iframe,min_width=230 ,max_width=400)\n",
    "    folium.Marker(location=[row['lat'],row['lon']],popup=print_popup,\n",
    "                  icon=folium.Icon(color=rate_color,icon='info-sign')).add_to(marker_cluster)\n",
    "\n",
    "############################plugins-search / geojson을 이용하기 위해 csv 파일 json으로 변경 해주었다.\n",
    "geo_json = {\n",
    "  \"type\": \"FeatureCollection\",\n",
    "  \"features\": [],\n",
    "}\n",
    "\n",
    "#geojson에서는 위도 경도가 다르게 입력된다.\n",
    "\n",
    "for idx,row in data_frame1.iterrows():\n",
    "    temp_dict = {\n",
    "      \"type\": \"Feature\",\n",
    "      \"geometry\": {\n",
    "        \"type\": \"Point\",\n",
    "        \"coordinates\":[row[\"lon\"],row[\"lat\"]],\n",
    "        \n",
    "      },\"properties\": {\"name\": row[\"name\"]}\n",
    "    }\n",
    "    geo_json[\"features\"].append(temp_dict)\n",
    "\n",
    "#팝업이 겹쳐서 show=False를 줘서 레이어가 보이지 않게 했다\n",
    "geojson_obj = folium.GeoJson(geo_json, show=False).add_to(map)\n",
    "\n",
    "\n",
    "###서치박스 힘들었음\n",
    "servicesearch = Search(\n",
    "    layer=geojson_obj,\n",
    "    search_label=\"name\",\n",
    "    placeholder='Search for a service',\n",
    "    collapsed=False,\n",
    "    search_zoom=20,\n",
    "\n",
    ").add_to(map)\n",
    "\n",
    "folium.LayerControl().add_to(map)\n",
    "\n",
    "map\n",
    "map.save(name+'.html')\n",
    "webbrowser.open(name+'.html')"
   ]
  },
  {
   "cell_type": "code",
   "execution_count": 5,
   "id": "a1e8972a",
   "metadata": {},
   "outputs": [],
   "source": []
  },
  {
   "cell_type": "code",
   "execution_count": 11,
   "id": "bfaca4bf",
   "metadata": {},
   "outputs": [
    {
     "name": "stderr",
     "output_type": "stream",
     "text": [
      "<ipython-input-11-52aeb24800fd>:21: UserWarning: color argument of Icon should be one of: {'darkpurple', 'darkgreen', 'green', 'lightblue', 'red', 'beige', 'gray', 'white', 'black', 'lightred', 'lightgray', 'orange', 'pink', 'lightgreen', 'darkred', 'blue', 'darkblue', 'cadetblue', 'purple'}.\n",
      "  folium.Marker(location=[row['lat'],row['lon']],popup=print_popup,icon=folium.Icon(color=rate_color,icon='info-sign')).add_to(marker_cluster)\n"
     ]
    },
    {
     "data": {
      "text/plain": [
       "True"
      ]
     },
     "execution_count": 11,
     "metadata": {},
     "output_type": "execute_result"
    }
   ],
   "source": []
  },
  {
   "cell_type": "code",
   "execution_count": null,
   "id": "db0b92a1",
   "metadata": {},
   "outputs": [],
   "source": []
  },
  {
   "cell_type": "code",
   "execution_count": null,
   "id": "af7c6596",
   "metadata": {},
   "outputs": [],
   "source": []
  },
  {
   "cell_type": "code",
   "execution_count": null,
   "id": "00c40e2e",
   "metadata": {},
   "outputs": [],
   "source": []
  },
  {
   "cell_type": "code",
   "execution_count": null,
   "id": "4a332187",
   "metadata": {},
   "outputs": [],
   "source": []
  },
  {
   "cell_type": "code",
   "execution_count": null,
   "id": "0b5ef240",
   "metadata": {},
   "outputs": [],
   "source": []
  },
  {
   "cell_type": "code",
   "execution_count": null,
   "id": "962c8b77",
   "metadata": {},
   "outputs": [],
   "source": []
  },
  {
   "cell_type": "code",
   "execution_count": null,
   "id": "6e5d227b",
   "metadata": {},
   "outputs": [],
   "source": []
  },
  {
   "cell_type": "code",
   "execution_count": null,
   "id": "79df5283",
   "metadata": {},
   "outputs": [],
   "source": []
  },
  {
   "cell_type": "code",
   "execution_count": null,
   "id": "9da540ad",
   "metadata": {},
   "outputs": [],
   "source": []
  }
 ],
 "metadata": {
  "kernelspec": {
   "display_name": "Python 3",
   "language": "python",
   "name": "python3"
  },
  "language_info": {
   "codemirror_mode": {
    "name": "ipython",
    "version": 3
   },
   "file_extension": ".py",
   "mimetype": "text/x-python",
   "name": "python",
   "nbconvert_exporter": "python",
   "pygments_lexer": "ipython3",
   "version": "3.8.8"
  }
 },
 "nbformat": 4,
 "nbformat_minor": 5
}
